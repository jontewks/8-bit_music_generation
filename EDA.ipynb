{
 "cells": [
  {
   "cell_type": "code",
   "execution_count": 2,
   "id": "changing-agency",
   "metadata": {},
   "outputs": [],
   "source": [
    "import os\n",
    "from music21 import converter, instrument, note, chord"
   ]
  },
  {
   "cell_type": "code",
   "execution_count": 2,
   "id": "sonic-allen",
   "metadata": {},
   "outputs": [],
   "source": [
    "midi_files = os.listdir('midi_files')"
   ]
  },
  {
   "cell_type": "code",
   "execution_count": 3,
   "id": "digital-centre",
   "metadata": {},
   "outputs": [],
   "source": [
    "parsed = converter.parse(f'midi_files/{midi_files[0]}')"
   ]
  },
  {
   "cell_type": "code",
   "execution_count": 4,
   "id": "hispanic-equity",
   "metadata": {},
   "outputs": [],
   "source": [
    "instruments = instrument.partitionByInstrument(parsed)"
   ]
  },
  {
   "cell_type": "code",
   "execution_count": 5,
   "id": "russian-central",
   "metadata": {},
   "outputs": [
    {
     "data": {
      "text/plain": [
       "63"
      ]
     },
     "execution_count": 5,
     "metadata": {},
     "output_type": "execute_result"
    }
   ],
   "source": [
    "len(parsed.parts[0].recurse())"
   ]
  },
  {
   "cell_type": "code",
   "execution_count": 6,
   "id": "collect-hypothetical",
   "metadata": {},
   "outputs": [],
   "source": [
    "i = instruments[0]"
   ]
  },
  {
   "cell_type": "code",
   "execution_count": 7,
   "id": "configured-distribution",
   "metadata": {},
   "outputs": [],
   "source": [
    "inst = i.getInstrument()"
   ]
  },
  {
   "cell_type": "code",
   "execution_count": 8,
   "id": "heard-diving",
   "metadata": {},
   "outputs": [
    {
     "data": {
      "text/plain": [
       "'Pipe Organ'"
      ]
     },
     "execution_count": 8,
     "metadata": {},
     "output_type": "execute_result"
    }
   ],
   "source": [
    "inst.instrumentName"
   ]
  },
  {
   "cell_type": "code",
   "execution_count": 9,
   "id": "olympic-specification",
   "metadata": {},
   "outputs": [],
   "source": [
    "import pickle"
   ]
  },
  {
   "cell_type": "code",
   "execution_count": 10,
   "id": "twelve-chart",
   "metadata": {},
   "outputs": [],
   "source": [
    "for i in range(0, len(midi_files), 100):\n",
    "    parsed = [converter.parse(f'midi_files/{file}') for file in midi_files[i:i + 100]]\n",
    "    with open(f'{i} - {i + 100}.pkl', 'wb') as f:\n",
    "        pickle.dump(parsed, f)"
   ]
  },
  {
   "cell_type": "code",
   "execution_count": 12,
   "id": "simplified-arnold",
   "metadata": {},
   "outputs": [],
   "source": [
    "pickles = [file for file in os.listdir('.') if '.pkl' in file]"
   ]
  },
  {
   "cell_type": "code",
   "execution_count": null,
   "id": "universal-cradle",
   "metadata": {},
   "outputs": [],
   "source": []
  }
 ],
 "metadata": {
  "kernelspec": {
   "display_name": "capstone",
   "language": "python",
   "name": "capstone"
  },
  "language_info": {
   "codemirror_mode": {
    "name": "ipython",
    "version": 3
   },
   "file_extension": ".py",
   "mimetype": "text/x-python",
   "name": "python",
   "nbconvert_exporter": "python",
   "pygments_lexer": "ipython3",
   "version": "3.9.2"
  }
 },
 "nbformat": 4,
 "nbformat_minor": 5
}
