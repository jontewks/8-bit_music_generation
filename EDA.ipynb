{
 "cells": [
  {
   "cell_type": "code",
   "execution_count": 1,
   "id": "contrary-harris",
   "metadata": {},
   "outputs": [],
   "source": [
    "import os\n",
    "import pickle\n",
    "from music21 import converter, instrument, note, chord\n",
    "import matplotlib.pyplot as plt\n",
    "import pandas as pd\n",
    "from fractions import Fraction"
   ]
  },
  {
   "cell_type": "code",
   "execution_count": 2,
   "id": "terminal-vertical",
   "metadata": {},
   "outputs": [],
   "source": [
    "midi_files = os.listdir('midi_files')"
   ]
  },
  {
   "cell_type": "markdown",
   "id": "diverse-husband",
   "metadata": {},
   "source": [
    "##### Example to inspect before acting on all files"
   ]
  },
  {
   "cell_type": "code",
   "execution_count": 3,
   "id": "seven-saver",
   "metadata": {},
   "outputs": [],
   "source": [
    "example = converter.parse(f'midi_files/{midi_files[0]}')\n",
    "instruments = instrument.partitionByInstrument(example)"
   ]
  },
  {
   "cell_type": "markdown",
   "id": "productive-bonus",
   "metadata": {},
   "source": [
    "##### See all the instruments available in the song"
   ]
  },
  {
   "cell_type": "code",
   "execution_count": 4,
   "id": "valued-editor",
   "metadata": {},
   "outputs": [
    {
     "name": "stdout",
     "output_type": "stream",
     "text": [
      "<music21.stream.Part Pipe Organ>\n",
      "<music21.stream.Part Electric Organ>\n",
      "<music21.stream.Part Harpsichord>\n",
      "<music21.stream.Part StringInstrument>\n"
     ]
    }
   ],
   "source": [
    "for part in instruments.parts:\n",
    "    print(part)"
   ]
  },
  {
   "cell_type": "markdown",
   "id": "intelligent-savings",
   "metadata": {},
   "source": [
    "##### Get the name of the instrument"
   ]
  },
  {
   "cell_type": "code",
   "execution_count": 5,
   "id": "outside-bryan",
   "metadata": {},
   "outputs": [
    {
     "data": {
      "text/plain": [
       "'Pipe Organ'"
      ]
     },
     "execution_count": 5,
     "metadata": {},
     "output_type": "execute_result"
    }
   ],
   "source": [
    "instruments.parts[0].getInstrument().instrumentName"
   ]
  },
  {
   "cell_type": "markdown",
   "id": "effective-fields",
   "metadata": {},
   "source": [
    "##### Go through each midi file, parse it, and extract data we want to inspect about it"
   ]
  },
  {
   "cell_type": "code",
   "execution_count": 6,
   "id": "missing-onion",
   "metadata": {},
   "outputs": [],
   "source": [
    "# midi_file_data = []\n",
    "\n",
    "# for file in midi_files:\n",
    "#     parsed = converter.parse(f'midi_files/{file}')\n",
    "#     data = {\n",
    "#         'file_name': file,\n",
    "#         'seconds_length': parsed.parts[0].seconds,\n",
    "#     }\n",
    "    \n",
    "#     instruments = instrument.partitionByInstrument(parsed)\n",
    "#     if instruments:\n",
    "#         data['instruments'] = [part.getInstrument().instrumentName for part in instruments.parts]\n",
    "        \n",
    "#     midi_file_data.append(data)\n",
    "    \n",
    "# df = pd.DataFrame(midi_file_data)\n",
    "# with open('pickles/midi_df.pickle', 'wb') as f:\n",
    "#     pickle.dump(df, f)\n",
    "\n",
    "with open('pickles/midi_df.pickle', 'rb') as f:\n",
    "    df = pickle.load(f)"
   ]
  },
  {
   "cell_type": "code",
   "execution_count": 7,
   "id": "smoking-windsor",
   "metadata": {},
   "outputs": [
    {
     "data": {
      "text/html": [
       "<div>\n",
       "<style scoped>\n",
       "    .dataframe tbody tr th:only-of-type {\n",
       "        vertical-align: middle;\n",
       "    }\n",
       "\n",
       "    .dataframe tbody tr th {\n",
       "        vertical-align: top;\n",
       "    }\n",
       "\n",
       "    .dataframe thead th {\n",
       "        text-align: right;\n",
       "    }\n",
       "</style>\n",
       "<table border=\"1\" class=\"dataframe\">\n",
       "  <thead>\n",
       "    <tr style=\"text-align: right;\">\n",
       "      <th></th>\n",
       "      <th>file_name</th>\n",
       "      <th>seconds_length</th>\n",
       "      <th>instruments</th>\n",
       "    </tr>\n",
       "  </thead>\n",
       "  <tbody>\n",
       "    <tr>\n",
       "      <th>0</th>\n",
       "      <td>FridayThe13th_-_MapDark.mid</td>\n",
       "      <td>93.272727</td>\n",
       "      <td>[Pipe Organ, Electric Organ, Harpsichord, Stri...</td>\n",
       "    </tr>\n",
       "    <tr>\n",
       "      <th>1</th>\n",
       "      <td>cv1-4.mid</td>\n",
       "      <td>41.533333</td>\n",
       "      <td>[Electric Organ, Bass, Piano, Violoncello]</td>\n",
       "    </tr>\n",
       "    <tr>\n",
       "      <th>2</th>\n",
       "      <td>MM3-Snake_Man.mid</td>\n",
       "      <td>124.125874</td>\n",
       "      <td>[BASS (FINGER), Electric Bass, SYNTH BASS, Sam...</td>\n",
       "    </tr>\n",
       "    <tr>\n",
       "      <th>3</th>\n",
       "      <td>dw4batl.mid</td>\n",
       "      <td>115.231788</td>\n",
       "      <td>[Electric Guitar, Bass, Electric Bass, Bass Su...</td>\n",
       "    </tr>\n",
       "    <tr>\n",
       "      <th>4</th>\n",
       "      <td>Balloon_Fight_-_Main_Theme_%28Dancing_Balloon%...</td>\n",
       "      <td>11559.700000</td>\n",
       "      <td>[Steel Drum, Bass, Sampler, Synth bass, None, ...</td>\n",
       "    </tr>\n",
       "  </tbody>\n",
       "</table>\n",
       "</div>"
      ],
      "text/plain": [
       "                                           file_name  seconds_length  \\\n",
       "0                        FridayThe13th_-_MapDark.mid       93.272727   \n",
       "1                                          cv1-4.mid       41.533333   \n",
       "2                                  MM3-Snake_Man.mid      124.125874   \n",
       "3                                        dw4batl.mid      115.231788   \n",
       "4  Balloon_Fight_-_Main_Theme_%28Dancing_Balloon%...    11559.700000   \n",
       "\n",
       "                                         instruments  \n",
       "0  [Pipe Organ, Electric Organ, Harpsichord, Stri...  \n",
       "1         [Electric Organ, Bass, Piano, Violoncello]  \n",
       "2  [BASS (FINGER), Electric Bass, SYNTH BASS, Sam...  \n",
       "3  [Electric Guitar, Bass, Electric Bass, Bass Su...  \n",
       "4  [Steel Drum, Bass, Sampler, Synth bass, None, ...  "
      ]
     },
     "execution_count": 7,
     "metadata": {},
     "output_type": "execute_result"
    }
   ],
   "source": [
    "df.head()"
   ]
  },
  {
   "cell_type": "code",
   "execution_count": 8,
   "id": "accessible-reply",
   "metadata": {},
   "outputs": [
    {
     "name": "stdout",
     "output_type": "stream",
     "text": [
      "<class 'pandas.core.frame.DataFrame'>\n",
      "RangeIndex: 4204 entries, 0 to 4203\n",
      "Data columns (total 3 columns):\n",
      " #   Column          Non-Null Count  Dtype  \n",
      "---  ------          --------------  -----  \n",
      " 0   file_name       4204 non-null   object \n",
      " 1   seconds_length  4131 non-null   float64\n",
      " 2   instruments     4201 non-null   object \n",
      "dtypes: float64(1), object(2)\n",
      "memory usage: 98.7+ KB\n"
     ]
    }
   ],
   "source": [
    "df.info()"
   ]
  },
  {
   "cell_type": "markdown",
   "id": "democratic-abraham",
   "metadata": {},
   "source": [
    "##### Update types in the dataframe"
   ]
  },
  {
   "cell_type": "code",
   "execution_count": 9,
   "id": "interim-segment",
   "metadata": {},
   "outputs": [
    {
     "name": "stdout",
     "output_type": "stream",
     "text": [
      "<class 'pandas.core.frame.DataFrame'>\n",
      "RangeIndex: 4204 entries, 0 to 4203\n",
      "Data columns (total 3 columns):\n",
      " #   Column          Non-Null Count  Dtype  \n",
      "---  ------          --------------  -----  \n",
      " 0   file_name       4204 non-null   string \n",
      " 1   seconds_length  4131 non-null   float64\n",
      " 2   instruments     4201 non-null   object \n",
      "dtypes: float64(1), object(1), string(1)\n",
      "memory usage: 98.7+ KB\n"
     ]
    }
   ],
   "source": [
    "df['file_name'] = df['file_name'].astype('string')\n",
    "df.info()"
   ]
  },
  {
   "cell_type": "markdown",
   "id": "average-liechtenstein",
   "metadata": {},
   "source": [
    "##### Pull out one giant list of all instruments for inspection"
   ]
  },
  {
   "cell_type": "code",
   "execution_count": 10,
   "id": "turkish-nothing",
   "metadata": {
    "tags": []
   },
   "outputs": [],
   "source": [
    "all_instruments = [\n",
    "    instrument for instrument_list in df['instruments'] \n",
    "    if isinstance(instrument_list, list) \n",
    "    for instrument in instrument_list\n",
    "]"
   ]
  },
  {
   "cell_type": "code",
   "execution_count": 11,
   "id": "veterinary-antibody",
   "metadata": {},
   "outputs": [
    {
     "data": {
      "text/plain": [
       "instrument      \n",
       "Sampler             2253\n",
       "Piano               2112\n",
       "Electric Bass       1836\n",
       "StringInstrument    1272\n",
       "Unknown             1211\n",
       "Electric Guitar      936\n",
       "Acoustic Bass        649\n",
       "Acoustic Guitar      617\n",
       "Bass                 527\n",
       "Electric Organ       484\n",
       "Brass                480\n",
       "Fretless Bass        381\n",
       "Trumpet              309\n",
       "Clarinet             270\n",
       "Harp                 263\n",
       "Flute                249\n",
       "Voice                235\n",
       "Celesta              212\n",
       "Contrabass           212\n",
       "Violin               188\n",
       "Timpani              167\n",
       "Horn                 163\n",
       "Clavichord           156\n",
       "Vibraphone           153\n",
       "Harpsichord          152\n",
       "dtype: int64"
      ]
     },
     "execution_count": 11,
     "metadata": {},
     "output_type": "execute_result"
    }
   ],
   "source": [
    "instruments_df = pd.DataFrame(all_instruments, columns=['instrument'])\n",
    "instruments_df['instrument'].fillna('Unknown', inplace=True)\n",
    "instruments_df.value_counts().head(25)"
   ]
  },
  {
   "cell_type": "code",
   "execution_count": 12,
   "id": "level-principle",
   "metadata": {},
   "outputs": [
    {
     "data": {
      "text/plain": [
       "<AxesSubplot:xlabel='instrument'>"
      ]
     },
     "execution_count": 12,
     "metadata": {},
     "output_type": "execute_result"
    },
    {
     "data": {
      "image/png": "[encoded data removed]",
      "text/plain": [
       "<Figure size 1152x432 with 1 Axes>"
      ]
     },
     "metadata": {
      "image/png": {
       "height": 457,
       "width": 939
      },
      "needs_background": "light"
     },
     "output_type": "display_data"
    }
   ],
   "source": [
    "plt.figure(figsize=(16,6))\n",
    "instruments_df.value_counts().head(25).plot(kind='bar')"
   ]
  },
  {
   "cell_type": "markdown",
   "id": "juvenile-florence",
   "metadata": {},
   "source": [
    "##### Inspect the lengths of each song"
   ]
  },
  {
   "cell_type": "code",
   "execution_count": 13,
   "id": "arbitrary-belief",
   "metadata": {},
   "outputs": [
    {
     "data": {
      "text/plain": [
       "count     4131.000000\n",
       "mean        91.348056\n",
       "std        251.779098\n",
       "min          0.000000\n",
       "25%         41.920680\n",
       "50%         74.805195\n",
       "75%        111.225141\n",
       "max      11559.700000\n",
       "Name: seconds_length, dtype: float64"
      ]
     },
     "execution_count": 13,
     "metadata": {},
     "output_type": "execute_result"
    }
   ],
   "source": [
    "df['seconds_length'].describe()"
   ]
  },
  {
   "cell_type": "code",
   "execution_count": 49,
   "id": "liquid-floating",
   "metadata": {},
   "outputs": [
    {
     "data": {
      "text/html": [
       "<div>\n",
       "<style scoped>\n",
       "    .dataframe tbody tr th:only-of-type {\n",
       "        vertical-align: middle;\n",
       "    }\n",
       "\n",
       "    .dataframe tbody tr th {\n",
       "        vertical-align: top;\n",
       "    }\n",
       "\n",
       "    .dataframe thead th {\n",
       "        text-align: right;\n",
       "    }\n",
       "</style>\n",
       "<table border=\"1\" class=\"dataframe\">\n",
       "  <thead>\n",
       "    <tr style=\"text-align: right;\">\n",
       "      <th></th>\n",
       "      <th>file_name</th>\n",
       "      <th>seconds_length</th>\n",
       "      <th>instruments</th>\n",
       "    </tr>\n",
       "  </thead>\n",
       "  <tbody>\n",
       "    <tr>\n",
       "      <th>4</th>\n",
       "      <td>Balloon_Fight_-_Main_Theme_%28Dancing_Balloon%...</td>\n",
       "      <td>11559.700000</td>\n",
       "      <td>[Steel Drum, Bass, Sampler, Synth bass, None, ...</td>\n",
       "    </tr>\n",
       "    <tr>\n",
       "      <th>4019</th>\n",
       "      <td>ff1fightgs1.mid</td>\n",
       "      <td>8980.916667</td>\n",
       "      <td>[Sampler]</td>\n",
       "    </tr>\n",
       "    <tr>\n",
       "      <th>266</th>\n",
       "      <td>vampire_killer%281%29.mid</td>\n",
       "      <td>5387.619048</td>\n",
       "      <td>[Sampler, StringInstrument, Timpani, Techno Ba...</td>\n",
       "    </tr>\n",
       "    <tr>\n",
       "      <th>2313</th>\n",
       "      <td>Super_Mario_Bros_-_Castle_%28Techno_Gabber_rem...</td>\n",
       "      <td>2057.583333</td>\n",
       "      <td>[Sampler, Bass, None]</td>\n",
       "    </tr>\n",
       "    <tr>\n",
       "      <th>2493</th>\n",
       "      <td>JILost_-_NES_-_Wizards_and_Warriors_III_-_Fina...</td>\n",
       "      <td>870.838397</td>\n",
       "      <td>[StringInstrument, Piano, Electric Bass]</td>\n",
       "    </tr>\n",
       "    <tr>\n",
       "      <th>...</th>\n",
       "      <td>...</td>\n",
       "      <td>...</td>\n",
       "      <td>...</td>\n",
       "    </tr>\n",
       "    <tr>\n",
       "      <th>4008</th>\n",
       "      <td>StarTropics-peter.mid</td>\n",
       "      <td>NaN</td>\n",
       "      <td>[Sampler, Clarinet, Flute, Acoustic Bass, None]</td>\n",
       "    </tr>\n",
       "    <tr>\n",
       "      <th>4022</th>\n",
       "      <td>dq4cave.mid</td>\n",
       "      <td>NaN</td>\n",
       "      <td>[Sampler, Voice]</td>\n",
       "    </tr>\n",
       "    <tr>\n",
       "      <th>4091</th>\n",
       "      <td>StarTropics-chapter_3_intro.mid</td>\n",
       "      <td>NaN</td>\n",
       "      <td>[Sampler, Violin, Viola, Electric Organ, Elect...</td>\n",
       "    </tr>\n",
       "    <tr>\n",
       "      <th>4112</th>\n",
       "      <td>Stage1.mid</td>\n",
       "      <td>NaN</td>\n",
       "      <td>[Electric Guitar, Electric Bass, None]</td>\n",
       "    </tr>\n",
       "    <tr>\n",
       "      <th>4133</th>\n",
       "      <td>j47_castlevania_orchesteral.mid</td>\n",
       "      <td>NaN</td>\n",
       "      <td>[Trumpet, StringInstrument, Tuba, Electric Bas...</td>\n",
       "    </tr>\n",
       "  </tbody>\n",
       "</table>\n",
       "<p>4204 rows × 3 columns</p>\n",
       "</div>"
      ],
      "text/plain": [
       "                                              file_name  seconds_length  \\\n",
       "4     Balloon_Fight_-_Main_Theme_%28Dancing_Balloon%...    11559.700000   \n",
       "4019                                    ff1fightgs1.mid     8980.916667   \n",
       "266                           vampire_killer%281%29.mid     5387.619048   \n",
       "2313  Super_Mario_Bros_-_Castle_%28Techno_Gabber_rem...     2057.583333   \n",
       "2493  JILost_-_NES_-_Wizards_and_Warriors_III_-_Fina...      870.838397   \n",
       "...                                                 ...             ...   \n",
       "4008                              StarTropics-peter.mid             NaN   \n",
       "4022                                        dq4cave.mid             NaN   \n",
       "4091                    StarTropics-chapter_3_intro.mid             NaN   \n",
       "4112                                         Stage1.mid             NaN   \n",
       "4133                    j47_castlevania_orchesteral.mid             NaN   \n",
       "\n",
       "                                            instruments  \n",
       "4     [Steel Drum, Bass, Sampler, Synth bass, None, ...  \n",
       "4019                                          [Sampler]  \n",
       "266   [Sampler, StringInstrument, Timpani, Techno Ba...  \n",
       "2313                              [Sampler, Bass, None]  \n",
       "2493           [StringInstrument, Piano, Electric Bass]  \n",
       "...                                                 ...  \n",
       "4008    [Sampler, Clarinet, Flute, Acoustic Bass, None]  \n",
       "4022                                   [Sampler, Voice]  \n",
       "4091  [Sampler, Violin, Viola, Electric Organ, Elect...  \n",
       "4112             [Electric Guitar, Electric Bass, None]  \n",
       "4133  [Trumpet, StringInstrument, Tuba, Electric Bas...  \n",
       "\n",
       "[4204 rows x 3 columns]"
      ]
     },
     "execution_count": 49,
     "metadata": {},
     "output_type": "execute_result"
    }
   ],
   "source": [
    "df.sort_values(by='seconds_length', ascending=False)"
   ]
  },
  {
   "cell_type": "markdown",
   "id": "cordless-clause",
   "metadata": {},
   "source": [
    "##### Guess at a good range of lengths to pull out so we don't end up with music too short or too long"
   ]
  },
  {
   "cell_type": "code",
   "execution_count": 53,
   "id": "surgical-species",
   "metadata": {},
   "outputs": [
    {
     "data": {
      "text/html": [
       "<div>\n",
       "<style scoped>\n",
       "    .dataframe tbody tr th:only-of-type {\n",
       "        vertical-align: middle;\n",
       "    }\n",
       "\n",
       "    .dataframe tbody tr th {\n",
       "        vertical-align: top;\n",
       "    }\n",
       "\n",
       "    .dataframe thead th {\n",
       "        text-align: right;\n",
       "    }\n",
       "</style>\n",
       "<table border=\"1\" class=\"dataframe\">\n",
       "  <thead>\n",
       "    <tr style=\"text-align: right;\">\n",
       "      <th></th>\n",
       "      <th>file_name</th>\n",
       "      <th>seconds_length</th>\n",
       "      <th>instruments</th>\n",
       "    </tr>\n",
       "  </thead>\n",
       "  <tbody>\n",
       "    <tr>\n",
       "      <th>0</th>\n",
       "      <td>FridayThe13th_-_MapDark.mid</td>\n",
       "      <td>93.272727</td>\n",
       "      <td>[Pipe Organ, Electric Organ, Harpsichord, Stri...</td>\n",
       "    </tr>\n",
       "    <tr>\n",
       "      <th>1</th>\n",
       "      <td>cv1-4.mid</td>\n",
       "      <td>41.533333</td>\n",
       "      <td>[Electric Organ, Bass, Piano, Violoncello]</td>\n",
       "    </tr>\n",
       "    <tr>\n",
       "      <th>2</th>\n",
       "      <td>MM3-Snake_Man.mid</td>\n",
       "      <td>124.125874</td>\n",
       "      <td>[BASS (FINGER), Electric Bass, SYNTH BASS, Sam...</td>\n",
       "    </tr>\n",
       "    <tr>\n",
       "      <th>3</th>\n",
       "      <td>dw4batl.mid</td>\n",
       "      <td>115.231788</td>\n",
       "      <td>[Electric Guitar, Bass, Electric Bass, Bass Su...</td>\n",
       "    </tr>\n",
       "    <tr>\n",
       "      <th>5</th>\n",
       "      <td>mm1wily2.mid</td>\n",
       "      <td>49.014085</td>\n",
       "      <td>[Electric Guitar, Acoustic Bass]</td>\n",
       "    </tr>\n",
       "    <tr>\n",
       "      <th>...</th>\n",
       "      <td>...</td>\n",
       "      <td>...</td>\n",
       "      <td>...</td>\n",
       "    </tr>\n",
       "    <tr>\n",
       "      <th>4197</th>\n",
       "      <td>B2_Stage_6.mid</td>\n",
       "      <td>100.043478</td>\n",
       "      <td>[Sampler, E.Piano 2, Piano]</td>\n",
       "    </tr>\n",
       "    <tr>\n",
       "      <th>4198</th>\n",
       "      <td>MM2_Metal_Man-KM.mid</td>\n",
       "      <td>92.061100</td>\n",
       "      <td>[Slap Bass 1, Electric Bass, Picked Bass, Elec...</td>\n",
       "    </tr>\n",
       "    <tr>\n",
       "      <th>4199</th>\n",
       "      <td>To_the_Earth_Anthem.mid</td>\n",
       "      <td>25.714286</td>\n",
       "      <td>[None, TBS Montego II MIDI, Sampler, Brass, Pi...</td>\n",
       "    </tr>\n",
       "    <tr>\n",
       "      <th>4200</th>\n",
       "      <td>GuerillaWar-lev2%28Wingroove%29v.1.00.mid</td>\n",
       "      <td>130.258065</td>\n",
       "      <td>[Bass, Electric Bass, Trumpet, Trumpet Echo, T...</td>\n",
       "    </tr>\n",
       "    <tr>\n",
       "      <th>4201</th>\n",
       "      <td>t%26t_wltz.mid</td>\n",
       "      <td>99.692308</td>\n",
       "      <td>[Acoustic Guitar]</td>\n",
       "    </tr>\n",
       "  </tbody>\n",
       "</table>\n",
       "<p>3620 rows × 3 columns</p>\n",
       "</div>"
      ],
      "text/plain": [
       "                                      file_name  seconds_length  \\\n",
       "0                   FridayThe13th_-_MapDark.mid       93.272727   \n",
       "1                                     cv1-4.mid       41.533333   \n",
       "2                             MM3-Snake_Man.mid      124.125874   \n",
       "3                                   dw4batl.mid      115.231788   \n",
       "5                                  mm1wily2.mid       49.014085   \n",
       "...                                         ...             ...   \n",
       "4197                             B2_Stage_6.mid      100.043478   \n",
       "4198                       MM2_Metal_Man-KM.mid       92.061100   \n",
       "4199                    To_the_Earth_Anthem.mid       25.714286   \n",
       "4200  GuerillaWar-lev2%28Wingroove%29v.1.00.mid      130.258065   \n",
       "4201                             t%26t_wltz.mid       99.692308   \n",
       "\n",
       "                                            instruments  \n",
       "0     [Pipe Organ, Electric Organ, Harpsichord, Stri...  \n",
       "1            [Electric Organ, Bass, Piano, Violoncello]  \n",
       "2     [BASS (FINGER), Electric Bass, SYNTH BASS, Sam...  \n",
       "3     [Electric Guitar, Bass, Electric Bass, Bass Su...  \n",
       "5                      [Electric Guitar, Acoustic Bass]  \n",
       "...                                                 ...  \n",
       "4197                        [Sampler, E.Piano 2, Piano]  \n",
       "4198  [Slap Bass 1, Electric Bass, Picked Bass, Elec...  \n",
       "4199  [None, TBS Montego II MIDI, Sampler, Brass, Pi...  \n",
       "4200  [Bass, Electric Bass, Trumpet, Trumpet Echo, T...  \n",
       "4201                                  [Acoustic Guitar]  \n",
       "\n",
       "[3620 rows x 3 columns]"
      ]
     },
     "execution_count": 53,
     "metadata": {},
     "output_type": "execute_result"
    }
   ],
   "source": [
    "usable_songs = df[df['seconds_length'].between(10, 200)]\n",
    "usable_songs"
   ]
  },
  {
   "cell_type": "code",
   "execution_count": 57,
   "id": "addressed-george",
   "metadata": {},
   "outputs": [
    {
     "data": {
      "text/plain": [
       "seconds_length\n",
       "(9.81, 28.997]        395\n",
       "(28.997, 47.993]      478\n",
       "(47.993, 66.99]       632\n",
       "(66.99, 85.987]       586\n",
       "(85.987, 104.983]     558\n",
       "(104.983, 123.98]     369\n",
       "(123.98, 142.977]     264\n",
       "(142.977, 161.973]    159\n",
       "(161.973, 180.97]      98\n",
       "(180.97, 199.967]      81\n",
       "Name: seconds_length, dtype: int64"
      ]
     },
     "execution_count": 57,
     "metadata": {},
     "output_type": "execute_result"
    }
   ],
   "source": [
    "grouped_lengths = usable_songs['seconds_length'].groupby(pd.cut(usable_songs['seconds_length'], bins=10))\n",
    "grouped_lengths.count()"
   ]
  },
  {
   "cell_type": "code",
   "execution_count": 61,
   "id": "several-classic",
   "metadata": {},
   "outputs": [
    {
     "data": {
      "text/plain": [
       "<AxesSubplot:xlabel='seconds_length'>"
      ]
     },
     "execution_count": 61,
     "metadata": {},
     "output_type": "execute_result"
    },
    {
     "data": {
      "image/png": "[encoded data removed]",
      "text/plain": [
       "<Figure size 1152x432 with 1 Axes>"
      ]
     },
     "metadata": {
      "image/png": {
       "height": 458,
       "width": 933
      },
      "needs_background": "light"
     },
     "output_type": "display_data"
    }
   ],
   "source": [
    "plt.figure(figsize=(16,6))\n",
    "grouped_lengths.count().plot(kind='bar')"
   ]
  }
 ],
 "metadata": {
  "kernelspec": {
   "display_name": "capstone",
   "language": "python",
   "name": "capstone"
  },
  "language_info": {
   "codemirror_mode": {
    "name": "ipython",
    "version": 3
   },
   "file_extension": ".py",
   "mimetype": "text/x-python",
   "name": "python",
   "nbconvert_exporter": "python",
   "pygments_lexer": "ipython3",
   "version": "3.9.2"
  }
 },
 "nbformat": 4,
 "nbformat_minor": 5
}
