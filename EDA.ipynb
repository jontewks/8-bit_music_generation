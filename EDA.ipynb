{
 "cells": [
  {
   "cell_type": "code",
   "execution_count": 14,
   "id": "strategic-fusion",
   "metadata": {},
   "outputs": [],
   "source": [
    "import os\n",
    "import pickle\n",
    "from music21 import converter, instrument, note, chord\n",
    "import matplotlib.pyplot as plt\n",
    "import seaborn as sns\n",
    "import pandas as pd\n",
    "from fractions import Fraction"
   ]
  },
  {
   "cell_type": "code",
   "execution_count": 2,
   "id": "convertible-watts",
   "metadata": {},
   "outputs": [],
   "source": [
    "midi_files = os.listdir('midi_files')\n",
    "pickle_path = 'pickles/music21_objects'"
   ]
  },
  {
   "cell_type": "markdown",
   "id": "protective-avenue",
   "metadata": {},
   "source": [
    "##### Example to inspect before acting on all files"
   ]
  },
  {
   "cell_type": "code",
   "execution_count": 3,
   "id": "national-deployment",
   "metadata": {},
   "outputs": [],
   "source": [
    "example = converter.parse(f'midi_files/{midi_files[0]}')\n",
    "instruments = instrument.partitionByInstrument(example)"
   ]
  },
  {
   "cell_type": "markdown",
   "id": "central-drove",
   "metadata": {},
   "source": [
    "##### See all the instruments available in the song"
   ]
  },
  {
   "cell_type": "code",
   "execution_count": 5,
   "id": "dynamic-pottery",
   "metadata": {},
   "outputs": [
    {
     "name": "stdout",
     "output_type": "stream",
     "text": [
      "<music21.stream.Part Pipe Organ>\n",
      "<music21.stream.Part Electric Organ>\n",
      "<music21.stream.Part Harpsichord>\n",
      "<music21.stream.Part StringInstrument>\n"
     ]
    }
   ],
   "source": [
    "for part in instruments.parts:\n",
    "    print(part)"
   ]
  },
  {
   "cell_type": "markdown",
   "id": "satellite-target",
   "metadata": {},
   "source": [
    "##### Get the name of the instrument"
   ]
  },
  {
   "cell_type": "code",
   "execution_count": 6,
   "id": "effective-smooth",
   "metadata": {},
   "outputs": [
    {
     "data": {
      "text/plain": [
       "'Pipe Organ'"
      ]
     },
     "execution_count": 6,
     "metadata": {},
     "output_type": "execute_result"
    }
   ],
   "source": [
    "instruments.parts[0].getInstrument().instrumentName"
   ]
  },
  {
   "cell_type": "markdown",
   "id": "brief-charlotte",
   "metadata": {},
   "source": [
    "##### Go through each midi file, parse it, and extract data we want to inspect about it"
   ]
  },
  {
   "cell_type": "code",
   "execution_count": 140,
   "id": "breeding-publicity",
   "metadata": {},
   "outputs": [],
   "source": [
    "# midi_file_data = []\n",
    "\n",
    "# for file in midi_files:\n",
    "#     parsed = converter.parse(f'midi_files/{file}')\n",
    "#     data = {\n",
    "#         'file_name': file,\n",
    "#         'length': parsed.highestTime,\n",
    "#     }\n",
    "    \n",
    "#     instruments = instrument.partitionByInstrument(parsed)\n",
    "#     if instruments:\n",
    "#         data['instruments'] = [part.getInstrument().instrumentName for part in instruments.parts]\n",
    "        \n",
    "#     midi_file_data.append(data)\n",
    "    \n",
    "# df = pd.DataFrame(midi_file_data)\n",
    "# with open('pickles/midi_df.pickle', 'wb') as f:\n",
    "#     pickle.dump(df, f)\n",
    "\n",
    "with open('pickles/midi_df.pickle', 'rb') as f:\n",
    "    global df\n",
    "    df = pickle.load(f)"
   ]
  },
  {
   "cell_type": "code",
   "execution_count": 141,
   "id": "hourly-establishment",
   "metadata": {},
   "outputs": [
    {
     "data": {
      "text/html": [
       "<div>\n",
       "<style scoped>\n",
       "    .dataframe tbody tr th:only-of-type {\n",
       "        vertical-align: middle;\n",
       "    }\n",
       "\n",
       "    .dataframe tbody tr th {\n",
       "        vertical-align: top;\n",
       "    }\n",
       "\n",
       "    .dataframe thead th {\n",
       "        text-align: right;\n",
       "    }\n",
       "</style>\n",
       "<table border=\"1\" class=\"dataframe\">\n",
       "  <thead>\n",
       "    <tr style=\"text-align: right;\">\n",
       "      <th></th>\n",
       "      <th>file_name</th>\n",
       "      <th>length</th>\n",
       "      <th>instruments</th>\n",
       "    </tr>\n",
       "  </thead>\n",
       "  <tbody>\n",
       "    <tr>\n",
       "      <th>0</th>\n",
       "      <td>FridayThe13th_-_MapDark.mid</td>\n",
       "      <td>171.50</td>\n",
       "      <td>[Pipe Organ, Electric Organ, Harpsichord, Stri...</td>\n",
       "    </tr>\n",
       "    <tr>\n",
       "      <th>1</th>\n",
       "      <td>cv1-4.mid</td>\n",
       "      <td>104.00</td>\n",
       "      <td>[Electric Organ, Bass, Piano, Violoncello]</td>\n",
       "    </tr>\n",
       "    <tr>\n",
       "      <th>2</th>\n",
       "      <td>MM3-Snake_Man.mid</td>\n",
       "      <td>296.00</td>\n",
       "      <td>[BASS (FINGER), Electric Bass, SYNTH BASS, Sam...</td>\n",
       "    </tr>\n",
       "    <tr>\n",
       "      <th>3</th>\n",
       "      <td>dw4batl.mid</td>\n",
       "      <td>290.00</td>\n",
       "      <td>[Electric Guitar, Bass, Electric Bass, Bass Su...</td>\n",
       "    </tr>\n",
       "    <tr>\n",
       "      <th>4</th>\n",
       "      <td>Balloon_Fight_-_Main_Theme_%28Dancing_Balloon%...</td>\n",
       "      <td>84337.25</td>\n",
       "      <td>[Steel Drum, Bass, Sampler, Synth bass, None, ...</td>\n",
       "    </tr>\n",
       "  </tbody>\n",
       "</table>\n",
       "</div>"
      ],
      "text/plain": [
       "                                           file_name    length  \\\n",
       "0                        FridayThe13th_-_MapDark.mid    171.50   \n",
       "1                                          cv1-4.mid    104.00   \n",
       "2                                  MM3-Snake_Man.mid    296.00   \n",
       "3                                        dw4batl.mid    290.00   \n",
       "4  Balloon_Fight_-_Main_Theme_%28Dancing_Balloon%...  84337.25   \n",
       "\n",
       "                                         instruments  \n",
       "0  [Pipe Organ, Electric Organ, Harpsichord, Stri...  \n",
       "1         [Electric Organ, Bass, Piano, Violoncello]  \n",
       "2  [BASS (FINGER), Electric Bass, SYNTH BASS, Sam...  \n",
       "3  [Electric Guitar, Bass, Electric Bass, Bass Su...  \n",
       "4  [Steel Drum, Bass, Sampler, Synth bass, None, ...  "
      ]
     },
     "execution_count": 141,
     "metadata": {},
     "output_type": "execute_result"
    }
   ],
   "source": [
    "df.head()"
   ]
  },
  {
   "cell_type": "code",
   "execution_count": 142,
   "id": "stretch-isaac",
   "metadata": {},
   "outputs": [
    {
     "name": "stdout",
     "output_type": "stream",
     "text": [
      "<class 'pandas.core.frame.DataFrame'>\n",
      "RangeIndex: 4204 entries, 0 to 4203\n",
      "Data columns (total 3 columns):\n",
      " #   Column       Non-Null Count  Dtype  \n",
      "---  ------       --------------  -----  \n",
      " 0   file_name    4204 non-null   string \n",
      " 1   length       4204 non-null   float64\n",
      " 2   instruments  4201 non-null   object \n",
      "dtypes: float64(1), object(1), string(1)\n",
      "memory usage: 98.7+ KB\n"
     ]
    }
   ],
   "source": [
    "df.info()"
   ]
  },
  {
   "cell_type": "markdown",
   "id": "spare-hanging",
   "metadata": {},
   "source": [
    "##### Update types in the dataframe"
   ]
  },
  {
   "cell_type": "code",
   "execution_count": 143,
   "id": "acknowledged-object",
   "metadata": {},
   "outputs": [],
   "source": [
    "# def round_fractions(row):\n",
    "#     if isinstance(row['length'], Fraction):\n",
    "#         row['length'] = round(row['length'])\n",
    "#     return row\n",
    "\n",
    "# df = df.apply(round_fractions, axis=1)\n",
    "# df['file_name'] = df['file_name'].astype('string')\n",
    "\n",
    "# df.info()"
   ]
  },
  {
   "cell_type": "markdown",
   "id": "ranking-things",
   "metadata": {},
   "source": [
    "##### Save DF after changes"
   ]
  },
  {
   "cell_type": "code",
   "execution_count": 139,
   "id": "looking-color",
   "metadata": {},
   "outputs": [],
   "source": [
    "# with open('pickles/midi_df.pickle', 'wb') as f:\n",
    "#     pickle.dump(df, f)"
   ]
  },
  {
   "cell_type": "markdown",
   "id": "decent-condition",
   "metadata": {},
   "source": [
    "##### Pull out one giant list of all instruments for inspection"
   ]
  },
  {
   "cell_type": "code",
   "execution_count": 115,
   "id": "generic-vintage",
   "metadata": {
    "collapsed": true,
    "jupyter": {
     "outputs_hidden": true
    },
    "tags": []
   },
   "outputs": [
    {
     "data": {
      "text/plain": [
       "0       None\n",
       "1       None\n",
       "2       None\n",
       "3       None\n",
       "4       None\n",
       "        ... \n",
       "4199    None\n",
       "4200    None\n",
       "4201    None\n",
       "4202    None\n",
       "4203    None\n",
       "Name: instruments, Length: 4204, dtype: object"
      ]
     },
     "execution_count": 115,
     "metadata": {},
     "output_type": "execute_result"
    }
   ],
   "source": [
    "all_instruments = []\n",
    "\n",
    "def combine_instruments(row_instruments):\n",
    "    global all_instruments\n",
    "    if isinstance(row_instruments, list):\n",
    "        all_instruments += row_instruments\n",
    "    \n",
    "df['instruments'].apply(combine_instruments)"
   ]
  },
  {
   "cell_type": "code",
   "execution_count": 137,
   "id": "armed-elevation",
   "metadata": {},
   "outputs": [
    {
     "data": {
      "text/plain": [
       "instrument      \n",
       "Sampler             2253\n",
       "Piano               2112\n",
       "Electric Bass       1836\n",
       "StringInstrument    1272\n",
       "Unknown             1211\n",
       "Electric Guitar      936\n",
       "Acoustic Bass        649\n",
       "Acoustic Guitar      617\n",
       "Bass                 527\n",
       "Electric Organ       484\n",
       "Brass                480\n",
       "Fretless Bass        381\n",
       "Trumpet              309\n",
       "Clarinet             270\n",
       "Harp                 263\n",
       "Flute                249\n",
       "Voice                235\n",
       "Celesta              212\n",
       "Contrabass           212\n",
       "Violin               188\n",
       "Timpani              167\n",
       "Horn                 163\n",
       "Clavichord           156\n",
       "Vibraphone           153\n",
       "Harpsichord          152\n",
       "dtype: int64"
      ]
     },
     "execution_count": 137,
     "metadata": {},
     "output_type": "execute_result"
    }
   ],
   "source": [
    "instruments_df = pd.DataFrame(all_instruments, columns=['instrument'])\n",
    "instruments_df['instrument'].fillna('Unknown', inplace=True)\n",
    "instruments_df.value_counts().head(25)"
   ]
  },
  {
   "cell_type": "code",
   "execution_count": 138,
   "id": "unsigned-thompson",
   "metadata": {},
   "outputs": [
    {
     "data": {
      "text/plain": [
       "<AxesSubplot:xlabel='instrument'>"
      ]
     },
     "execution_count": 138,
     "metadata": {},
     "output_type": "execute_result"
    },
    {
     "data": {
      "image/png": "[encoded data removed]",
      "text/plain": [
       "<Figure size 1152x432 with 1 Axes>"
      ]
     },
     "metadata": {
      "image/png": {
       "height": 457,
       "width": 939
      },
      "needs_background": "light"
     },
     "output_type": "display_data"
    }
   ],
   "source": [
    "plt.figure(figsize=(16,6))\n",
    "instruments_df.value_counts().head(25).plot(kind='bar')"
   ]
  },
  {
   "cell_type": "markdown",
   "id": "heavy-uniform",
   "metadata": {},
   "source": [
    "##### Inspect the lengths of each song"
   ]
  },
  {
   "cell_type": "code",
   "execution_count": 148,
   "id": "underlying-carrier",
   "metadata": {},
   "outputs": [
    {
     "data": {
      "text/plain": [
       "count    4.204000e+03\n",
       "mean     1.449763e+05\n",
       "std      6.737390e+06\n",
       "min      7.500000e-01\n",
       "25%      8.437500e+01\n",
       "50%      1.628750e+02\n",
       "75%      2.560000e+02\n",
       "max      3.579141e+08\n",
       "Name: length, dtype: float64"
      ]
     },
     "execution_count": 148,
     "metadata": {},
     "output_type": "execute_result"
    }
   ],
   "source": [
    "df['length'].describe()"
   ]
  },
  {
   "cell_type": "code",
   "execution_count": 150,
   "id": "successful-rotation",
   "metadata": {},
   "outputs": [
    {
     "data": {
      "text/html": [
       "<div>\n",
       "<style scoped>\n",
       "    .dataframe tbody tr th:only-of-type {\n",
       "        vertical-align: middle;\n",
       "    }\n",
       "\n",
       "    .dataframe tbody tr th {\n",
       "        vertical-align: top;\n",
       "    }\n",
       "\n",
       "    .dataframe thead th {\n",
       "        text-align: right;\n",
       "    }\n",
       "</style>\n",
       "<table border=\"1\" class=\"dataframe\">\n",
       "  <thead>\n",
       "    <tr style=\"text-align: right;\">\n",
       "      <th></th>\n",
       "      <th>file_name</th>\n",
       "      <th>length</th>\n",
       "      <th>instruments</th>\n",
       "    </tr>\n",
       "  </thead>\n",
       "  <tbody>\n",
       "    <tr>\n",
       "      <th>2555</th>\n",
       "      <td>gzilla_soundtest6.mid</td>\n",
       "      <td>7.500000e-01</td>\n",
       "      <td>[Sampler]</td>\n",
       "    </tr>\n",
       "    <tr>\n",
       "      <th>2030</th>\n",
       "      <td>gzilla_death.mid</td>\n",
       "      <td>1.000000e+00</td>\n",
       "      <td>[Sampler]</td>\n",
       "    </tr>\n",
       "    <tr>\n",
       "      <th>2309</th>\n",
       "      <td>gzilla_soundtest5.mid</td>\n",
       "      <td>1.000000e+00</td>\n",
       "      <td>[Sampler]</td>\n",
       "    </tr>\n",
       "    <tr>\n",
       "      <th>3562</th>\n",
       "      <td>c3cont.mid</td>\n",
       "      <td>1.000000e+00</td>\n",
       "      <td>[StringInstrument, Acoustic Bass, Piano]</td>\n",
       "    </tr>\n",
       "    <tr>\n",
       "      <th>1288</th>\n",
       "      <td>c3deft.mid</td>\n",
       "      <td>1.000000e+00</td>\n",
       "      <td>[StringInstrument, Acoustic Bass, Piano]</td>\n",
       "    </tr>\n",
       "    <tr>\n",
       "      <th>...</th>\n",
       "      <td>...</td>\n",
       "      <td>...</td>\n",
       "      <td>...</td>\n",
       "    </tr>\n",
       "    <tr>\n",
       "      <th>266</th>\n",
       "      <td>vampire_killer%281%29.mid</td>\n",
       "      <td>2.487600e+04</td>\n",
       "      <td>[Sampler, StringInstrument, Timpani, Techno Ba...</td>\n",
       "    </tr>\n",
       "    <tr>\n",
       "      <th>2313</th>\n",
       "      <td>Super_Mario_Bros_-_Castle_%28Techno_Gabber_rem...</td>\n",
       "      <td>8.143525e+04</td>\n",
       "      <td>[Sampler, Bass, None]</td>\n",
       "    </tr>\n",
       "    <tr>\n",
       "      <th>4</th>\n",
       "      <td>Balloon_Fight_-_Main_Theme_%28Dancing_Balloon%...</td>\n",
       "      <td>8.433725e+04</td>\n",
       "      <td>[Steel Drum, Bass, Sampler, Synth bass, None, ...</td>\n",
       "    </tr>\n",
       "    <tr>\n",
       "      <th>4042</th>\n",
       "      <td>W%26W2_Water.mid</td>\n",
       "      <td>2.505398e+08</td>\n",
       "      <td>[Electric Bass, Sampler, Piano]</td>\n",
       "    </tr>\n",
       "    <tr>\n",
       "      <th>3328</th>\n",
       "      <td>W%26W2_Level1.mid</td>\n",
       "      <td>3.579141e+08</td>\n",
       "      <td>[Electric Bass, Sampler, Piano]</td>\n",
       "    </tr>\n",
       "  </tbody>\n",
       "</table>\n",
       "<p>4204 rows × 3 columns</p>\n",
       "</div>"
      ],
      "text/plain": [
       "                                              file_name        length  \\\n",
       "2555                              gzilla_soundtest6.mid  7.500000e-01   \n",
       "2030                                   gzilla_death.mid  1.000000e+00   \n",
       "2309                              gzilla_soundtest5.mid  1.000000e+00   \n",
       "3562                                         c3cont.mid  1.000000e+00   \n",
       "1288                                         c3deft.mid  1.000000e+00   \n",
       "...                                                 ...           ...   \n",
       "266                           vampire_killer%281%29.mid  2.487600e+04   \n",
       "2313  Super_Mario_Bros_-_Castle_%28Techno_Gabber_rem...  8.143525e+04   \n",
       "4     Balloon_Fight_-_Main_Theme_%28Dancing_Balloon%...  8.433725e+04   \n",
       "4042                                   W%26W2_Water.mid  2.505398e+08   \n",
       "3328                                  W%26W2_Level1.mid  3.579141e+08   \n",
       "\n",
       "                                            instruments  \n",
       "2555                                          [Sampler]  \n",
       "2030                                          [Sampler]  \n",
       "2309                                          [Sampler]  \n",
       "3562           [StringInstrument, Acoustic Bass, Piano]  \n",
       "1288           [StringInstrument, Acoustic Bass, Piano]  \n",
       "...                                                 ...  \n",
       "266   [Sampler, StringInstrument, Timpani, Techno Ba...  \n",
       "2313                              [Sampler, Bass, None]  \n",
       "4     [Steel Drum, Bass, Sampler, Synth bass, None, ...  \n",
       "4042                    [Electric Bass, Sampler, Piano]  \n",
       "3328                    [Electric Bass, Sampler, Piano]  \n",
       "\n",
       "[4204 rows x 3 columns]"
      ]
     },
     "execution_count": 150,
     "metadata": {},
     "output_type": "execute_result"
    }
   ],
   "source": [
    "df.sort_values(by='length')"
   ]
  },
  {
   "cell_type": "code",
   "execution_count": null,
   "id": "dominican-mailman",
   "metadata": {},
   "outputs": [],
   "source": []
  },
  {
   "cell_type": "code",
   "execution_count": null,
   "id": "positive-fellowship",
   "metadata": {},
   "outputs": [],
   "source": []
  },
  {
   "cell_type": "code",
   "execution_count": null,
   "id": "arbitrary-retailer",
   "metadata": {},
   "outputs": [],
   "source": []
  },
  {
   "cell_type": "code",
   "execution_count": 161,
   "id": "hybrid-chamber",
   "metadata": {},
   "outputs": [],
   "source": [
    "grouped_lengths = length_df.groupby(pd.cut(length_df['length'], bins=[1, 10, 100, 1000, 10000, 100000, 1000000, 10000000, 100000000, 1000000000]))"
   ]
  },
  {
   "cell_type": "code",
   "execution_count": 170,
   "id": "opened-arlington",
   "metadata": {},
   "outputs": [
    {
     "data": {
      "text/html": [
       "<div>\n",
       "<style scoped>\n",
       "    .dataframe tbody tr th:only-of-type {\n",
       "        vertical-align: middle;\n",
       "    }\n",
       "\n",
       "    .dataframe tbody tr th {\n",
       "        vertical-align: top;\n",
       "    }\n",
       "\n",
       "    .dataframe thead th {\n",
       "        text-align: right;\n",
       "    }\n",
       "</style>\n",
       "<table border=\"1\" class=\"dataframe\">\n",
       "  <thead>\n",
       "    <tr style=\"text-align: right;\">\n",
       "      <th></th>\n",
       "      <th>length</th>\n",
       "    </tr>\n",
       "    <tr>\n",
       "      <th>length</th>\n",
       "      <th></th>\n",
       "    </tr>\n",
       "  </thead>\n",
       "  <tbody>\n",
       "    <tr>\n",
       "      <th>(1, 10]</th>\n",
       "      <td>178</td>\n",
       "    </tr>\n",
       "    <tr>\n",
       "      <th>(10, 100]</th>\n",
       "      <td>1072</td>\n",
       "    </tr>\n",
       "    <tr>\n",
       "      <th>(100, 1000]</th>\n",
       "      <td>2921</td>\n",
       "    </tr>\n",
       "    <tr>\n",
       "      <th>(1000, 10000]</th>\n",
       "      <td>22</td>\n",
       "    </tr>\n",
       "    <tr>\n",
       "      <th>(10000, 100000]</th>\n",
       "      <td>3</td>\n",
       "    </tr>\n",
       "    <tr>\n",
       "      <th>(100000, 1000000]</th>\n",
       "      <td>0</td>\n",
       "    </tr>\n",
       "    <tr>\n",
       "      <th>(1000000, 10000000]</th>\n",
       "      <td>0</td>\n",
       "    </tr>\n",
       "    <tr>\n",
       "      <th>(10000000, 100000000]</th>\n",
       "      <td>0</td>\n",
       "    </tr>\n",
       "    <tr>\n",
       "      <th>(100000000, 1000000000]</th>\n",
       "      <td>2</td>\n",
       "    </tr>\n",
       "  </tbody>\n",
       "</table>\n",
       "</div>"
      ],
      "text/plain": [
       "                         length\n",
       "length                         \n",
       "(1, 10]                     178\n",
       "(10, 100]                  1072\n",
       "(100, 1000]                2921\n",
       "(1000, 10000]                22\n",
       "(10000, 100000]               3\n",
       "(100000, 1000000]             0\n",
       "(1000000, 10000000]           0\n",
       "(10000000, 100000000]         0\n",
       "(100000000, 1000000000]       2"
      ]
     },
     "execution_count": 170,
     "metadata": {},
     "output_type": "execute_result"
    }
   ],
   "source": [
    "grouped_lengths.count()"
   ]
  },
  {
   "cell_type": "code",
   "execution_count": 172,
   "id": "ongoing-helen",
   "metadata": {},
   "outputs": [],
   "source": [
    "without_long_songs = length_df[length_df['length'] < 1000]"
   ]
  },
  {
   "cell_type": "code",
   "execution_count": 176,
   "id": "strange-stephen",
   "metadata": {},
   "outputs": [
    {
     "data": {
      "text/plain": [
       "<AxesSubplot:xlabel='length'>"
      ]
     },
     "execution_count": 176,
     "metadata": {},
     "output_type": "execute_result"
    },
    {
     "data": {
      "image/png": "[encoded data removed]",
      "text/plain": [
       "<Figure size 432x288 with 1 Axes>"
      ]
     },
     "metadata": {
      "image/png": {
       "height": 311,
       "width": 381
      },
      "needs_background": "light"
     },
     "output_type": "display_data"
    }
   ],
   "source": [
    "grouped_shorter_songs = without_long_songs.groupby(pd.cut(without_long_songs['length'], bins=[0, 10, 25, 50, 100, 250, 500, 1000]))\n",
    "grouped_shorter_songs.count().plot(kind='bar')"
   ]
  },
  {
   "cell_type": "code",
   "execution_count": 177,
   "id": "rational-fields",
   "metadata": {},
   "outputs": [],
   "source": [
    "def get_song_lengths_with_names(scores):\n",
    "    output = []\n",
    "    for score in scores:\n",
    "        output.append(score.highestTime)\n",
    "    return output"
   ]
  },
  {
   "cell_type": "code",
   "execution_count": 183,
   "id": "raising-minute",
   "metadata": {},
   "outputs": [
    {
     "data": {
      "text/plain": [
       "<music21.stream.Score 0x10d822970>"
      ]
     },
     "execution_count": 183,
     "metadata": {},
     "output_type": "execute_result"
    }
   ],
   "source": [
    "example"
   ]
  },
  {
   "cell_type": "code",
   "execution_count": null,
   "id": "welsh-liabilities",
   "metadata": {},
   "outputs": [],
   "source": []
  }
 ],
 "metadata": {
  "kernelspec": {
   "display_name": "capstone",
   "language": "python",
   "name": "capstone"
  },
  "language_info": {
   "codemirror_mode": {
    "name": "ipython",
    "version": 3
   },
   "file_extension": ".py",
   "mimetype": "text/x-python",
   "name": "python",
   "nbconvert_exporter": "python",
   "pygments_lexer": "ipython3",
   "version": "3.9.2"
  }
 },
 "nbformat": 4,
 "nbformat_minor": 5
}
