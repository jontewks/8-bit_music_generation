{
 "cells": [
  {
   "cell_type": "markdown",
   "id": "mighty-sunday",
   "metadata": {
    "tags": []
   },
   "source": [
    "##### Parse each hundred songs and pickle the results as to not run into resource issues"
   ]
  },
  {
   "cell_type": "code",
   "execution_count": null,
   "id": "naked-structure",
   "metadata": {},
   "outputs": [],
   "source": [
    "# for i in range(0, len(midi_files), 100):\n",
    "#     parsed = [converter.parse(f'midi_files/{file}') for file in midi_files[i:i + 100]]\n",
    "#     with open(f'{pickle_path}/{i} - {i + 100}.pickle', 'wb') as f:\n",
    "#         pickle.dump(parsed, f)"
   ]
  },
  {
   "cell_type": "markdown",
   "id": "postal-alabama",
   "metadata": {},
   "source": [
    "##### Create function to run a callback over all the music21 objects in all the pickle files and return the results"
   ]
  },
  {
   "cell_type": "code",
   "execution_count": 2,
   "id": "toxic-mercury",
   "metadata": {
    "tags": []
   },
   "outputs": [],
   "source": [
    "music21_object_pickles = [file for file in os.listdir(pickle_path)]\n",
    "\n",
    "def apply_to_pickles(callback):\n",
    "    output = []\n",
    "    for filename in music21_object_pickles:\n",
    "        with open(f'{pickle_path}/{filename}', 'rb') as f:\n",
    "            chunk = pickle.load(f)\n",
    "            output.append(callback(chunk))\n",
    "    return output"
   ]
  },
  {
   "cell_type": "markdown",
   "id": "favorite-withdrawal",
   "metadata": {},
   "source": [
    "##### Create function to get the instrument names for each music21 object"
   ]
  },
  {
   "cell_type": "code",
   "execution_count": 7,
   "id": "powerful-contamination",
   "metadata": {},
   "outputs": [],
   "source": [
    "def get_instrument_names(scores):\n",
    "    output = []\n",
    "    for score in scores:\n",
    "        instruments = instrument.partitionByInstrument(score)\n",
    "        if instruments:\n",
    "            output += [part.getInstrument().instrumentName for part in instruments.parts]\n",
    "    return output"
   ]
  },
  {
   "cell_type": "markdown",
   "id": "massive-notification",
   "metadata": {},
   "source": [
    "##### Pull out instrument names for all songs and pickle the results"
   ]
  },
  {
   "cell_type": "code",
   "execution_count": 9,
   "id": "handy-password",
   "metadata": {},
   "outputs": [],
   "source": [
    "# instrument_names = apply_to_pickles(get_instrument_names)\n",
    "with open('pickles/all_instrument_names.pickle', 'rb') as f:\n",
    "    global instrument_names\n",
    "    instrument_names = pickle.load(f)"
   ]
  },
  {
   "cell_type": "code",
   "execution_count": 11,
   "id": "usual-settle",
   "metadata": {},
   "outputs": [],
   "source": [
    "from collections import Counter\n",
    "count = Counter(instrument_names)"
   ]
  },
  {
   "cell_type": "code",
   "execution_count": 43,
   "id": "hungarian-cylinder",
   "metadata": {},
   "outputs": [
    {
     "data": {
      "text/html": [
       "<div>\n",
       "<style scoped>\n",
       "    .dataframe tbody tr th:only-of-type {\n",
       "        vertical-align: middle;\n",
       "    }\n",
       "\n",
       "    .dataframe tbody tr th {\n",
       "        vertical-align: top;\n",
       "    }\n",
       "\n",
       "    .dataframe thead th {\n",
       "        text-align: right;\n",
       "    }\n",
       "</style>\n",
       "<table border=\"1\" class=\"dataframe\">\n",
       "  <thead>\n",
       "    <tr style=\"text-align: right;\">\n",
       "      <th></th>\n",
       "      <th>instrument</th>\n",
       "      <th>count</th>\n",
       "    </tr>\n",
       "  </thead>\n",
       "  <tbody>\n",
       "    <tr>\n",
       "      <th>0</th>\n",
       "      <td>Sampler</td>\n",
       "      <td>2253</td>\n",
       "    </tr>\n",
       "    <tr>\n",
       "      <th>1</th>\n",
       "      <td>Piano</td>\n",
       "      <td>2112</td>\n",
       "    </tr>\n",
       "    <tr>\n",
       "      <th>2</th>\n",
       "      <td>Electric Bass</td>\n",
       "      <td>1836</td>\n",
       "    </tr>\n",
       "    <tr>\n",
       "      <th>3</th>\n",
       "      <td>StringInstrument</td>\n",
       "      <td>1272</td>\n",
       "    </tr>\n",
       "    <tr>\n",
       "      <th>4</th>\n",
       "      <td>None</td>\n",
       "      <td>1211</td>\n",
       "    </tr>\n",
       "    <tr>\n",
       "      <th>5</th>\n",
       "      <td>Electric Guitar</td>\n",
       "      <td>936</td>\n",
       "    </tr>\n",
       "    <tr>\n",
       "      <th>6</th>\n",
       "      <td>Acoustic Bass</td>\n",
       "      <td>649</td>\n",
       "    </tr>\n",
       "    <tr>\n",
       "      <th>7</th>\n",
       "      <td>Acoustic Guitar</td>\n",
       "      <td>617</td>\n",
       "    </tr>\n",
       "    <tr>\n",
       "      <th>8</th>\n",
       "      <td>Bass</td>\n",
       "      <td>527</td>\n",
       "    </tr>\n",
       "    <tr>\n",
       "      <th>9</th>\n",
       "      <td>Electric Organ</td>\n",
       "      <td>484</td>\n",
       "    </tr>\n",
       "    <tr>\n",
       "      <th>10</th>\n",
       "      <td>Brass</td>\n",
       "      <td>480</td>\n",
       "    </tr>\n",
       "    <tr>\n",
       "      <th>11</th>\n",
       "      <td>Fretless Bass</td>\n",
       "      <td>381</td>\n",
       "    </tr>\n",
       "    <tr>\n",
       "      <th>12</th>\n",
       "      <td>Trumpet</td>\n",
       "      <td>309</td>\n",
       "    </tr>\n",
       "    <tr>\n",
       "      <th>13</th>\n",
       "      <td>Clarinet</td>\n",
       "      <td>270</td>\n",
       "    </tr>\n",
       "    <tr>\n",
       "      <th>14</th>\n",
       "      <td>Harp</td>\n",
       "      <td>263</td>\n",
       "    </tr>\n",
       "    <tr>\n",
       "      <th>15</th>\n",
       "      <td>Flute</td>\n",
       "      <td>249</td>\n",
       "    </tr>\n",
       "    <tr>\n",
       "      <th>16</th>\n",
       "      <td>Voice</td>\n",
       "      <td>235</td>\n",
       "    </tr>\n",
       "    <tr>\n",
       "      <th>17</th>\n",
       "      <td>Celesta</td>\n",
       "      <td>212</td>\n",
       "    </tr>\n",
       "    <tr>\n",
       "      <th>18</th>\n",
       "      <td>Contrabass</td>\n",
       "      <td>212</td>\n",
       "    </tr>\n",
       "    <tr>\n",
       "      <th>19</th>\n",
       "      <td>Violin</td>\n",
       "      <td>188</td>\n",
       "    </tr>\n",
       "    <tr>\n",
       "      <th>20</th>\n",
       "      <td>Timpani</td>\n",
       "      <td>167</td>\n",
       "    </tr>\n",
       "    <tr>\n",
       "      <th>21</th>\n",
       "      <td>Horn</td>\n",
       "      <td>163</td>\n",
       "    </tr>\n",
       "    <tr>\n",
       "      <th>22</th>\n",
       "      <td>Clavichord</td>\n",
       "      <td>156</td>\n",
       "    </tr>\n",
       "    <tr>\n",
       "      <th>23</th>\n",
       "      <td>Vibraphone</td>\n",
       "      <td>153</td>\n",
       "    </tr>\n",
       "    <tr>\n",
       "      <th>24</th>\n",
       "      <td>Harpsichord</td>\n",
       "      <td>152</td>\n",
       "    </tr>\n",
       "  </tbody>\n",
       "</table>\n",
       "</div>"
      ],
      "text/plain": [
       "          instrument  count\n",
       "0            Sampler   2253\n",
       "1              Piano   2112\n",
       "2      Electric Bass   1836\n",
       "3   StringInstrument   1272\n",
       "4               None   1211\n",
       "5    Electric Guitar    936\n",
       "6      Acoustic Bass    649\n",
       "7    Acoustic Guitar    617\n",
       "8               Bass    527\n",
       "9     Electric Organ    484\n",
       "10             Brass    480\n",
       "11     Fretless Bass    381\n",
       "12           Trumpet    309\n",
       "13          Clarinet    270\n",
       "14              Harp    263\n",
       "15             Flute    249\n",
       "16             Voice    235\n",
       "17           Celesta    212\n",
       "18        Contrabass    212\n",
       "19            Violin    188\n",
       "20           Timpani    167\n",
       "21              Horn    163\n",
       "22        Clavichord    156\n",
       "23        Vibraphone    153\n",
       "24       Harpsichord    152"
      ]
     },
     "execution_count": 43,
     "metadata": {},
     "output_type": "execute_result"
    }
   ],
   "source": [
    "count_df = pd.DataFrame(count.most_common(25), columns=['instrument', 'count'])\n",
    "count_df"
   ]
  },
  {
   "cell_type": "code",
   "execution_count": 55,
   "id": "express-exclusive",
   "metadata": {},
   "outputs": [],
   "source": [
    "count_df.loc[4, ['instrument']] = 'None'"
   ]
  },
  {
   "cell_type": "code",
   "execution_count": 56,
   "id": "primary-contemporary",
   "metadata": {},
   "outputs": [
    {
     "data": {
      "text/plain": [
       "<AxesSubplot:xlabel='instrument', ylabel='count'>"
      ]
     },
     "execution_count": 56,
     "metadata": {},
     "output_type": "execute_result"
    },
    {
     "data": {
      "image/png": "[encoded data removed]",
      "text/plain": [
       "<Figure size 1152x432 with 1 Axes>"
      ]
     },
     "metadata": {
      "image/png": {
       "height": 370,
       "width": 953
      },
      "needs_background": "light"
     },
     "output_type": "display_data"
    }
   ],
   "source": [
    "plt.figure(figsize=(16, 6))\n",
    "sns.barplot(data=count_df[:10], x='instrument', y='count', color='tab:blue')"
   ]
  },
  {
   "cell_type": "markdown",
   "id": "square-professor",
   "metadata": {},
   "source": [
    "##### Easiest way to see the total length of the song"
   ]
  },
  {
   "cell_type": "code",
   "execution_count": 74,
   "id": "planned-bacteria",
   "metadata": {},
   "outputs": [
    {
     "data": {
      "text/plain": [
       "171.5"
      ]
     },
     "execution_count": 74,
     "metadata": {},
     "output_type": "execute_result"
    }
   ],
   "source": [
    "example.highestTime"
   ]
  },
  {
   "cell_type": "markdown",
   "id": "composed-kernel",
   "metadata": {},
   "source": [
    "##### Get all song lengths and inspect them"
   ]
  },
  {
   "cell_type": "code",
   "execution_count": 76,
   "id": "smooth-leisure",
   "metadata": {},
   "outputs": [],
   "source": [
    "def get_song_lengths(scores):\n",
    "    output = []\n",
    "    for score in scores:\n",
    "        output.append(score.highestTime)\n",
    "    return output"
   ]
  },
  {
   "cell_type": "code",
   "execution_count": 144,
   "id": "abstract-inventory",
   "metadata": {
    "tags": []
   },
   "outputs": [],
   "source": [
    "# song_lengths = apply_to_pickles(get_song_lengths)\n",
    "# flattened_lengths = [length for list in song_lengths for length in list]\n",
    "\n",
    "# with open('pickles/all_song_lengths.pickle', 'wb') as f:\n",
    "#     pickle.dump(flattened_lengths, f)\n",
    "\n",
    "with open('pickles/all_song_lengths.pickle', 'rb') as f:\n",
    "    global flattened_lengths\n",
    "    flattened_lengths = pickle.load(f)"
   ]
  },
  {
   "cell_type": "code",
   "execution_count": 96,
   "id": "excellent-bristol",
   "metadata": {},
   "outputs": [],
   "source": [
    "from fractions import Fraction\n",
    "\n",
    "without_fractions = []\n",
    "for length in flattened_lengths:\n",
    "    if isinstance(length, Fraction):\n",
    "        without_fractions.append(round(length))\n",
    "    else:\n",
    "        without_fractions.append(length)"
   ]
  },
  {
   "cell_type": "code",
   "execution_count": 98,
   "id": "colonial-florist",
   "metadata": {},
   "outputs": [],
   "source": [
    "length_df = pd.DataFrame(without_fractions, columns=['length'])"
   ]
  },
  {
   "cell_type": "code",
   "execution_count": 140,
   "id": "acquired-studio",
   "metadata": {
    "collapsed": true,
    "jupyter": {
     "outputs_hidden": true
    },
    "tags": []
   },
   "outputs": [
    {
     "data": {
      "text/html": [
       "<div>\n",
       "<style scoped>\n",
       "    .dataframe tbody tr th:only-of-type {\n",
       "        vertical-align: middle;\n",
       "    }\n",
       "\n",
       "    .dataframe tbody tr th {\n",
       "        vertical-align: top;\n",
       "    }\n",
       "\n",
       "    .dataframe thead th {\n",
       "        text-align: right;\n",
       "    }\n",
       "</style>\n",
       "<table border=\"1\" class=\"dataframe\">\n",
       "  <thead>\n",
       "    <tr style=\"text-align: right;\">\n",
       "      <th></th>\n",
       "      <th>length</th>\n",
       "    </tr>\n",
       "  </thead>\n",
       "  <tbody>\n",
       "    <tr>\n",
       "      <th>2832</th>\n",
       "      <td>3.579141e+08</td>\n",
       "    </tr>\n",
       "    <tr>\n",
       "      <th>1846</th>\n",
       "      <td>2.505398e+08</td>\n",
       "    </tr>\n",
       "    <tr>\n",
       "      <th>4</th>\n",
       "      <td>8.433725e+04</td>\n",
       "    </tr>\n",
       "    <tr>\n",
       "      <th>3017</th>\n",
       "      <td>8.143525e+04</td>\n",
       "    </tr>\n",
       "    <tr>\n",
       "      <th>366</th>\n",
       "      <td>2.487600e+04</td>\n",
       "    </tr>\n",
       "    <tr>\n",
       "      <th>...</th>\n",
       "      <td>...</td>\n",
       "    </tr>\n",
       "    <tr>\n",
       "      <th>3013</th>\n",
       "      <td>1.000000e+00</td>\n",
       "    </tr>\n",
       "    <tr>\n",
       "      <th>3292</th>\n",
       "      <td>1.000000e+00</td>\n",
       "    </tr>\n",
       "    <tr>\n",
       "      <th>3534</th>\n",
       "      <td>1.000000e+00</td>\n",
       "    </tr>\n",
       "    <tr>\n",
       "      <th>3483</th>\n",
       "      <td>1.000000e+00</td>\n",
       "    </tr>\n",
       "    <tr>\n",
       "      <th>959</th>\n",
       "      <td>7.500000e-01</td>\n",
       "    </tr>\n",
       "  </tbody>\n",
       "</table>\n",
       "<p>4204 rows × 1 columns</p>\n",
       "</div>"
      ],
      "text/plain": [
       "            length\n",
       "2832  3.579141e+08\n",
       "1846  2.505398e+08\n",
       "4     8.433725e+04\n",
       "3017  8.143525e+04\n",
       "366   2.487600e+04\n",
       "...            ...\n",
       "3013  1.000000e+00\n",
       "3292  1.000000e+00\n",
       "3534  1.000000e+00\n",
       "3483  1.000000e+00\n",
       "959   7.500000e-01\n",
       "\n",
       "[4204 rows x 1 columns]"
      ]
     },
     "execution_count": 140,
     "metadata": {},
     "output_type": "execute_result"
    }
   ],
   "source": [
    "length_df.sort_values(by='length', ascending=False)"
   ]
  }
 ],
 "metadata": {
  "kernelspec": {
   "display_name": "capstone",
   "language": "python",
   "name": "capstone"
  },
  "language_info": {
   "codemirror_mode": {
    "name": "ipython",
    "version": 3
   },
   "file_extension": ".py",
   "mimetype": "text/x-python",
   "name": "python",
   "nbconvert_exporter": "python",
   "pygments_lexer": "ipython3",
   "version": "3.9.2"
  }
 },
 "nbformat": 4,
 "nbformat_minor": 5
}
