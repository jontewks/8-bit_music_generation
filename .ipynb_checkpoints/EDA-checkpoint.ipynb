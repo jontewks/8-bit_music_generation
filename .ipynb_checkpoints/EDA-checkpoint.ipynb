{
 "cells": [
  {
   "cell_type": "markdown",
   "id": "identical-taylor",
   "metadata": {},
   "source": [
    "##### Parse each hundred songs and pickle the results as to not run into resource issues"
   ]
  },
  {
   "cell_type": "code",
   "execution_count": 1,
   "id": "soviet-excitement",
   "metadata": {},
   "outputs": [],
   "source": [
    "import os\n",
    "import pickle\n",
    "from music21 import converter, instrument, note, chord\n",
    "\n",
    "midi_files = os.listdir('midi_files')\n",
    "\n",
    "# for i in range(0, len(midi_files), 100):\n",
    "#     parsed = [converter.parse(f'midi_files/{file}') for file in midi_files[i:i + 100]]\n",
    "#     with open(f'parsed_pickles/{i} - {i + 100}.pickle', 'wb') as f:\n",
    "#         pickle.dump(parsed, f)"
   ]
  },
  {
   "cell_type": "code",
   "execution_count": 2,
   "id": "hired-administration",
   "metadata": {},
   "outputs": [],
   "source": [
    "path = 'pickles/music21_objects'\n",
    "music21_object_pickles = [file for file in os.listdir(path)]\n",
    "\n",
    "def apply_to_pickles(callback):\n",
    "    output = []\n",
    "    for filename in music21_object_pickles:\n",
    "        with open(f'{path}/{filename}', 'rb') as f:\n",
    "            chunk = pickle.load(f)\n",
    "            output.append(callback(chunk))\n",
    "    return output"
   ]
  },
  {
   "cell_type": "markdown",
   "id": "legal-arthur",
   "metadata": {},
   "source": [
    "##### Example to inspect before acting on all files"
   ]
  },
  {
   "cell_type": "code",
   "execution_count": 3,
   "id": "undefined-ocean",
   "metadata": {},
   "outputs": [],
   "source": [
    "example = converter.parse(f'midi_files/{midi_files[0]}')"
   ]
  },
  {
   "cell_type": "code",
   "execution_count": 4,
   "id": "perceived-freight",
   "metadata": {},
   "outputs": [],
   "source": [
    "instruments = instrument.partitionByInstrument(example)"
   ]
  },
  {
   "cell_type": "markdown",
   "id": "ordinary-minister",
   "metadata": {},
   "source": [
    "##### See all the instruments available in the song"
   ]
  },
  {
   "cell_type": "code",
   "execution_count": 5,
   "id": "advised-spirituality",
   "metadata": {},
   "outputs": [
    {
     "name": "stdout",
     "output_type": "stream",
     "text": [
      "<music21.stream.Part Pipe Organ>\n",
      "<music21.stream.Part Electric Organ>\n",
      "<music21.stream.Part Harpsichord>\n",
      "<music21.stream.Part StringInstrument>\n"
     ]
    }
   ],
   "source": [
    "for part in instruments.parts:\n",
    "    print(part)"
   ]
  },
  {
   "cell_type": "markdown",
   "id": "following-vitamin",
   "metadata": {},
   "source": [
    "##### Get the name of the instrument"
   ]
  },
  {
   "cell_type": "code",
   "execution_count": 6,
   "id": "august-currency",
   "metadata": {},
   "outputs": [
    {
     "data": {
      "text/plain": [
       "'Pipe Organ'"
      ]
     },
     "execution_count": 6,
     "metadata": {},
     "output_type": "execute_result"
    }
   ],
   "source": [
    "instruments.parts[0].getInstrument().instrumentName"
   ]
  },
  {
   "cell_type": "code",
   "execution_count": 7,
   "id": "fabulous-intellectual",
   "metadata": {},
   "outputs": [],
   "source": [
    "def get_instrument_names(scores):\n",
    "    output = []\n",
    "    for score in scores:\n",
    "        instruments = instrument.partitionByInstrument(score)\n",
    "        if instruments:\n",
    "            output += [part.getInstrument().instrumentName for part in instruments.parts]\n",
    "    return output"
   ]
  },
  {
   "cell_type": "code",
   "execution_count": 8,
   "id": "temporal-wallet",
   "metadata": {},
   "outputs": [],
   "source": [
    "# no_instruments.flat.notes[0]"
   ]
  },
  {
   "cell_type": "code",
   "execution_count": 22,
   "id": "violent-implementation",
   "metadata": {},
   "outputs": [],
   "source": [
    "# instrument_names = apply_to_pickles(get_instrument_names)\n",
    "with open('pickles/all_instrument_names.pickle', 'rb') as f:\n",
    "    global instrument_names\n",
    "    instrument_names = pickle.load(f)"
   ]
  },
  {
   "cell_type": "code",
   "execution_count": 23,
   "id": "sunset-holly",
   "metadata": {},
   "outputs": [
    {
     "data": {
      "text/plain": [
       "20784"
      ]
     },
     "execution_count": 23,
     "metadata": {},
     "output_type": "execute_result"
    }
   ],
   "source": [
    "len(instrument_names)"
   ]
  },
  {
   "cell_type": "code",
   "execution_count": 24,
   "id": "imported-bosnia",
   "metadata": {},
   "outputs": [],
   "source": [
    "from collections import Counter\n",
    "count = Counter(instrument_names)"
   ]
  },
  {
   "cell_type": "code",
   "execution_count": 27,
   "id": "elementary-collective",
   "metadata": {},
   "outputs": [
    {
     "data": {
      "text/plain": [
       "[('Sampler', 2253),\n",
       " ('Piano', 2112),\n",
       " ('Electric Bass', 1836),\n",
       " ('StringInstrument', 1272),\n",
       " (None, 1211),\n",
       " ('Electric Guitar', 936),\n",
       " ('Acoustic Bass', 649),\n",
       " ('Acoustic Guitar', 617),\n",
       " ('Bass', 527),\n",
       " ('Electric Organ', 484)]"
      ]
     },
     "execution_count": 27,
     "metadata": {},
     "output_type": "execute_result"
    }
   ],
   "source": [
    "count.most_common(10)"
   ]
  }
 ],
 "metadata": {
  "kernelspec": {
   "display_name": "capstone",
   "language": "python",
   "name": "capstone"
  },
  "language_info": {
   "codemirror_mode": {
    "name": "ipython",
    "version": 3
   },
   "file_extension": ".py",
   "mimetype": "text/x-python",
   "name": "python",
   "nbconvert_exporter": "python",
   "pygments_lexer": "ipython3",
   "version": "3.9.2"
  }
 },
 "nbformat": 4,
 "nbformat_minor": 5
}
